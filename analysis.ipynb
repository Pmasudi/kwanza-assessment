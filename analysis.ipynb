{
 "cells": [
  {
   "cell_type": "markdown",
   "metadata": {},
   "source": [
    "desc"
   ]
  },
  {
   "cell_type": "markdown",
   "metadata": {},
   "source": [
    "Reading dataset"
   ]
  },
  {
   "cell_type": "code",
   "execution_count": 78,
   "metadata": {},
   "outputs": [],
   "source": [
    "import pandas as pd"
   ]
  },
  {
   "cell_type": "code",
   "execution_count": 79,
   "metadata": {},
   "outputs": [
    {
     "data": {
      "text/html": [
       "<div>\n",
       "<style scoped>\n",
       "    .dataframe tbody tr th:only-of-type {\n",
       "        vertical-align: middle;\n",
       "    }\n",
       "\n",
       "    .dataframe tbody tr th {\n",
       "        vertical-align: top;\n",
       "    }\n",
       "\n",
       "    .dataframe thead th {\n",
       "        text-align: right;\n",
       "    }\n",
       "</style>\n",
       "<table border=\"1\" class=\"dataframe\">\n",
       "  <thead>\n",
       "    <tr style=\"text-align: right;\">\n",
       "      <th></th>\n",
       "      <th>DATE</th>\n",
       "      <th>ANONYMIZED CATEGORY</th>\n",
       "      <th>ANONYMIZED PRODUCT</th>\n",
       "      <th>ANONYMIZED BUSINESS</th>\n",
       "      <th>ANONYMIZED LOCATION</th>\n",
       "      <th>QUANTITY</th>\n",
       "      <th>UNIT PRICE</th>\n",
       "    </tr>\n",
       "  </thead>\n",
       "  <tbody>\n",
       "    <tr>\n",
       "      <th>0</th>\n",
       "      <td>August 18, 2024, 9:32 PM</td>\n",
       "      <td>Category-106</td>\n",
       "      <td>Product-21f4</td>\n",
       "      <td>Business-de42</td>\n",
       "      <td>Location-1ba8</td>\n",
       "      <td>1</td>\n",
       "      <td>850</td>\n",
       "    </tr>\n",
       "    <tr>\n",
       "      <th>1</th>\n",
       "      <td>August 18, 2024, 9:32 PM</td>\n",
       "      <td>Category-120</td>\n",
       "      <td>Product-4156</td>\n",
       "      <td>Business-de42</td>\n",
       "      <td>Location-1ba8</td>\n",
       "      <td>2</td>\n",
       "      <td>1,910</td>\n",
       "    </tr>\n",
       "    <tr>\n",
       "      <th>2</th>\n",
       "      <td>August 18, 2024, 9:32 PM</td>\n",
       "      <td>Category-121</td>\n",
       "      <td>Product-49bd</td>\n",
       "      <td>Business-de42</td>\n",
       "      <td>Location-1ba8</td>\n",
       "      <td>1</td>\n",
       "      <td>3,670</td>\n",
       "    </tr>\n",
       "    <tr>\n",
       "      <th>3</th>\n",
       "      <td>August 18, 2024, 9:32 PM</td>\n",
       "      <td>Category-76</td>\n",
       "      <td>Product-61dd</td>\n",
       "      <td>Business-de42</td>\n",
       "      <td>Location-1ba8</td>\n",
       "      <td>1</td>\n",
       "      <td>2,605</td>\n",
       "    </tr>\n",
       "    <tr>\n",
       "      <th>4</th>\n",
       "      <td>August 18, 2024, 9:32 PM</td>\n",
       "      <td>Category-119</td>\n",
       "      <td>Product-66e0</td>\n",
       "      <td>Business-de42</td>\n",
       "      <td>Location-1ba8</td>\n",
       "      <td>5</td>\n",
       "      <td>1,480</td>\n",
       "    </tr>\n",
       "  </tbody>\n",
       "</table>\n",
       "</div>"
      ],
      "text/plain": [
       "                       DATE ANONYMIZED CATEGORY ANONYMIZED PRODUCT  \\\n",
       "0  August 18, 2024, 9:32 PM        Category-106       Product-21f4   \n",
       "1  August 18, 2024, 9:32 PM        Category-120       Product-4156   \n",
       "2  August 18, 2024, 9:32 PM        Category-121       Product-49bd   \n",
       "3  August 18, 2024, 9:32 PM         Category-76       Product-61dd   \n",
       "4  August 18, 2024, 9:32 PM        Category-119       Product-66e0   \n",
       "\n",
       "  ANONYMIZED BUSINESS ANONYMIZED LOCATION  QUANTITY UNIT PRICE  \n",
       "0       Business-de42       Location-1ba8         1        850  \n",
       "1       Business-de42       Location-1ba8         2      1,910  \n",
       "2       Business-de42       Location-1ba8         1      3,670  \n",
       "3       Business-de42       Location-1ba8         1      2,605  \n",
       "4       Business-de42       Location-1ba8         5      1,480  "
      ]
     },
     "execution_count": 79,
     "metadata": {},
     "output_type": "execute_result"
    }
   ],
   "source": [
    "df=pd.readcd _csv(\"case study.csv\")\n",
    "df.head()"
   ]
  },
  {
   "cell_type": "code",
   "execution_count": 80,
   "metadata": {},
   "outputs": [
    {
     "data": {
      "text/plain": [
       "(333405, 7)"
      ]
     },
     "execution_count": 80,
     "metadata": {},
     "output_type": "execute_result"
    }
   ],
   "source": [
    "df.shape"
   ]
  },
  {
   "cell_type": "code",
   "execution_count": 81,
   "metadata": {},
   "outputs": [
    {
     "data": {
      "text/plain": [
       "329873"
      ]
     },
     "execution_count": 81,
     "metadata": {},
     "output_type": "execute_result"
    }
   ],
   "source": [
    "333405-8-3524"
   ]
  },
  {
   "cell_type": "markdown",
   "metadata": {},
   "source": [
    "**finding missing values**\n"
   ]
  },
  {
   "cell_type": "code",
   "execution_count": 82,
   "metadata": {},
   "outputs": [
    {
     "data": {
      "text/plain": [
       "DATE                   0\n",
       "ANONYMIZED CATEGORY    0\n",
       "ANONYMIZED PRODUCT     0\n",
       "ANONYMIZED BUSINESS    0\n",
       "ANONYMIZED LOCATION    0\n",
       "QUANTITY               0\n",
       "UNIT PRICE             8\n",
       "dtype: int64"
      ]
     },
     "execution_count": 82,
     "metadata": {},
     "output_type": "execute_result"
    }
   ],
   "source": [
    "df.isnull().sum()"
   ]
  },
  {
   "cell_type": "code",
   "execution_count": 83,
   "metadata": {},
   "outputs": [
    {
     "name": "stdout",
     "output_type": "stream",
     "text": [
      "missing row values:8\n"
     ]
    }
   ],
   "source": [
    "missing_count = df['UNIT PRICE'].isnull().sum()\n",
    "print(f\"missing row values:{missing_count}\")"
   ]
  },
  {
   "cell_type": "code",
   "execution_count": 84,
   "metadata": {},
   "outputs": [],
   "source": [
    "df_cleaned = df.dropna(subset=['UNIT PRICE'])"
   ]
  },
  {
   "cell_type": "code",
   "execution_count": 85,
   "metadata": {},
   "outputs": [
    {
     "name": "stdout",
     "output_type": "stream",
     "text": [
      "Remaining missing values in 'UNIT PRICE': 0\n"
     ]
    }
   ],
   "source": [
    "missing_unit_price_count = df_cleaned['UNIT PRICE'].isnull().sum()\n",
    "print(f\"Remaining missing values in 'UNIT PRICE': {missing_unit_price_count}\")"
   ]
  },
  {
   "cell_type": "code",
   "execution_count": 86,
   "metadata": {},
   "outputs": [
    {
     "name": "stdout",
     "output_type": "stream",
     "text": [
      "<class 'pandas.core.frame.DataFrame'>\n",
      "Index: 333397 entries, 0 to 333404\n",
      "Data columns (total 7 columns):\n",
      " #   Column               Non-Null Count   Dtype \n",
      "---  ------               --------------   ----- \n",
      " 0   DATE                 333397 non-null  object\n",
      " 1   ANONYMIZED CATEGORY  333397 non-null  object\n",
      " 2   ANONYMIZED PRODUCT   333397 non-null  object\n",
      " 3   ANONYMIZED BUSINESS  333397 non-null  object\n",
      " 4   ANONYMIZED LOCATION  333397 non-null  object\n",
      " 5   QUANTITY             333397 non-null  int64 \n",
      " 6   UNIT PRICE           333397 non-null  object\n",
      "dtypes: int64(1), object(6)\n",
      "memory usage: 20.3+ MB\n"
     ]
    }
   ],
   "source": [
    "df_cleaned.info()"
   ]
  },
  {
   "cell_type": "code",
   "execution_count": 87,
   "metadata": {},
   "outputs": [
    {
     "name": "stdout",
     "output_type": "stream",
     "text": [
      "dublicate value are:0         False\n",
      "1         False\n",
      "2         False\n",
      "3         False\n",
      "4         False\n",
      "          ...  \n",
      "333400     True\n",
      "333401    False\n",
      "333402    False\n",
      "333403    False\n",
      "333404    False\n",
      "Length: 333405, dtype: bool\n"
     ]
    }
   ],
   "source": [
    "duplicate_values = df.duplicated()\n",
    "print(f\"dublicate value are:{duplicate_values}\")"
   ]
  },
  {
   "cell_type": "code",
   "execution_count": 88,
   "metadata": {},
   "outputs": [
    {
     "name": "stdout",
     "output_type": "stream",
     "text": [
      "number of dublicate rows:3524\n"
     ]
    }
   ],
   "source": [
    "dublicate_count = len(df[df.duplicated()])\n",
    "print(f\"number of dublicate rows:{dublicate_count}\")"
   ]
  },
  {
   "cell_type": "code",
   "execution_count": 89,
   "metadata": {},
   "outputs": [],
   "source": [
    "df_cleaned = df.drop_duplicates()"
   ]
  },
  {
   "cell_type": "code",
   "execution_count": 90,
   "metadata": {},
   "outputs": [
    {
     "name": "stdout",
     "output_type": "stream",
     "text": [
      "Number of duplicate rows after cleaning: 0\n"
     ]
    }
   ],
   "source": [
    "new_duplicates_count = df_cleaned.duplicated().sum()\n",
    "print(f\"Number of duplicate rows after cleaning: {new_duplicates_count}\")"
   ]
  },
  {
   "cell_type": "code",
   "execution_count": 91,
   "metadata": {},
   "outputs": [
    {
     "name": "stdout",
     "output_type": "stream",
     "text": [
      "<class 'pandas.core.frame.DataFrame'>\n",
      "Index: 329881 entries, 0 to 333404\n",
      "Data columns (total 7 columns):\n",
      " #   Column               Non-Null Count   Dtype \n",
      "---  ------               --------------   ----- \n",
      " 0   DATE                 329881 non-null  object\n",
      " 1   ANONYMIZED CATEGORY  329881 non-null  object\n",
      " 2   ANONYMIZED PRODUCT   329881 non-null  object\n",
      " 3   ANONYMIZED BUSINESS  329881 non-null  object\n",
      " 4   ANONYMIZED LOCATION  329881 non-null  object\n",
      " 5   QUANTITY             329881 non-null  int64 \n",
      " 6   UNIT PRICE           329873 non-null  object\n",
      "dtypes: int64(1), object(6)\n",
      "memory usage: 20.1+ MB\n"
     ]
    }
   ],
   "source": [
    "df_cleaned.info()"
   ]
  },
  {
   "cell_type": "code",
   "execution_count": 92,
   "metadata": {},
   "outputs": [
    {
     "name": "stderr",
     "output_type": "stream",
     "text": [
      "C:\\Users\\Masudi\\AppData\\Local\\Temp\\ipykernel_2920\\2541906660.py:1: UserWarning: Could not infer format, so each element will be parsed individually, falling back to `dateutil`. To ensure parsing is consistent and as-expected, please specify a format.\n",
      "  df['DATE'] = pd.to_datetime(df['DATE'])\n"
     ]
    }
   ],
   "source": [
    "df['DATE'] = pd.to_datetime(df['DATE'])"
   ]
  },
  {
   "cell_type": "code",
   "execution_count": 93,
   "metadata": {},
   "outputs": [
    {
     "name": "stderr",
     "output_type": "stream",
     "text": [
      "C:\\Users\\Masudi\\AppData\\Local\\Temp\\ipykernel_2920\\3472946328.py:2: UserWarning: Could not infer format, so each element will be parsed individually, falling back to `dateutil`. To ensure parsing is consistent and as-expected, please specify a format.\n",
      "  df_cleaned['DATE'] = pd.to_datetime(df_cleaned['DATE'])\n",
      "C:\\Users\\Masudi\\AppData\\Local\\Temp\\ipykernel_2920\\3472946328.py:2: SettingWithCopyWarning: \n",
      "A value is trying to be set on a copy of a slice from a DataFrame.\n",
      "Try using .loc[row_indexer,col_indexer] = value instead\n",
      "\n",
      "See the caveats in the documentation: https://pandas.pydata.org/pandas-docs/stable/user_guide/indexing.html#returning-a-view-versus-a-copy\n",
      "  df_cleaned['DATE'] = pd.to_datetime(df_cleaned['DATE'])\n",
      "C:\\Users\\Masudi\\AppData\\Local\\Temp\\ipykernel_2920\\3472946328.py:5: SettingWithCopyWarning: \n",
      "A value is trying to be set on a copy of a slice from a DataFrame.\n",
      "Try using .loc[row_indexer,col_indexer] = value instead\n",
      "\n",
      "See the caveats in the documentation: https://pandas.pydata.org/pandas-docs/stable/user_guide/indexing.html#returning-a-view-versus-a-copy\n",
      "  df_cleaned['month-year'] = df_cleaned['DATE'].dt.month_name() + ', ' + df_cleaned['DATE'].dt.year.astype(str)\n"
     ]
    }
   ],
   "source": [
    "# Convert 'DATE' column to datetime if it's not already\n",
    "df_cleaned['DATE'] = pd.to_datetime(df_cleaned['DATE'])\n",
    "\n",
    "# Now you can add the 'month-year' column\n",
    "df_cleaned['month-year'] = df_cleaned['DATE'].dt.month_name() + ', ' + df_cleaned['DATE'].dt.year.astype(str)\n"
   ]
  },
  {
   "cell_type": "code",
   "execution_count": 94,
   "metadata": {},
   "outputs": [
    {
     "data": {
      "text/html": [
       "<div>\n",
       "<style scoped>\n",
       "    .dataframe tbody tr th:only-of-type {\n",
       "        vertical-align: middle;\n",
       "    }\n",
       "\n",
       "    .dataframe tbody tr th {\n",
       "        vertical-align: top;\n",
       "    }\n",
       "\n",
       "    .dataframe thead th {\n",
       "        text-align: right;\n",
       "    }\n",
       "</style>\n",
       "<table border=\"1\" class=\"dataframe\">\n",
       "  <thead>\n",
       "    <tr style=\"text-align: right;\">\n",
       "      <th></th>\n",
       "      <th>DATE</th>\n",
       "      <th>ANONYMIZED CATEGORY</th>\n",
       "      <th>ANONYMIZED PRODUCT</th>\n",
       "      <th>ANONYMIZED BUSINESS</th>\n",
       "      <th>ANONYMIZED LOCATION</th>\n",
       "      <th>QUANTITY</th>\n",
       "      <th>UNIT PRICE</th>\n",
       "      <th>month-year</th>\n",
       "    </tr>\n",
       "  </thead>\n",
       "  <tbody>\n",
       "    <tr>\n",
       "      <th>0</th>\n",
       "      <td>2024-08-18 21:32:00</td>\n",
       "      <td>Category-106</td>\n",
       "      <td>Product-21f4</td>\n",
       "      <td>Business-de42</td>\n",
       "      <td>Location-1ba8</td>\n",
       "      <td>1</td>\n",
       "      <td>850</td>\n",
       "      <td>August, 2024</td>\n",
       "    </tr>\n",
       "    <tr>\n",
       "      <th>1</th>\n",
       "      <td>2024-08-18 21:32:00</td>\n",
       "      <td>Category-120</td>\n",
       "      <td>Product-4156</td>\n",
       "      <td>Business-de42</td>\n",
       "      <td>Location-1ba8</td>\n",
       "      <td>2</td>\n",
       "      <td>1,910</td>\n",
       "      <td>August, 2024</td>\n",
       "    </tr>\n",
       "  </tbody>\n",
       "</table>\n",
       "</div>"
      ],
      "text/plain": [
       "                 DATE ANONYMIZED CATEGORY ANONYMIZED PRODUCT  \\\n",
       "0 2024-08-18 21:32:00        Category-106       Product-21f4   \n",
       "1 2024-08-18 21:32:00        Category-120       Product-4156   \n",
       "\n",
       "  ANONYMIZED BUSINESS ANONYMIZED LOCATION  QUANTITY UNIT PRICE    month-year  \n",
       "0       Business-de42       Location-1ba8         1        850  August, 2024  \n",
       "1       Business-de42       Location-1ba8         2      1,910  August, 2024  "
      ]
     },
     "execution_count": 94,
     "metadata": {},
     "output_type": "execute_result"
    }
   ],
   "source": [
    "df_cleaned.head(2)"
   ]
  },
  {
   "cell_type": "code",
   "execution_count": 96,
   "metadata": {},
   "outputs": [
    {
     "data": {
      "text/plain": [
       "(329881, 8)"
      ]
     },
     "execution_count": 96,
     "metadata": {},
     "output_type": "execute_result"
    }
   ],
   "source": [
    "df_cleaned.shape"
   ]
  },
  {
   "cell_type": "code",
   "execution_count": 98,
   "metadata": {},
   "outputs": [
    {
     "ename": "",
     "evalue": "",
     "output_type": "error",
     "traceback": [
      "\u001b[1;31mFailed to start the Kernel. \n",
      "\u001b[1;31mUnable to start Kernel 'Python 3.12.0' due to a timeout waiting for the ports to get used. \n",
      "\u001b[1;31mView Jupyter <a href='command:jupyter.viewOutput'>log</a> for further details."
     ]
    }
   ],
   "source": [
    "categorized_sales = df.groupby('ANONYMIZED CATEGORY').agg({'QUANTITY':'sum','UNIT PRICE':'sum'})"
   ]
  },
  {
   "cell_type": "code",
   "execution_count": null,
   "metadata": {},
   "outputs": [
    {
     "ename": "",
     "evalue": "",
     "output_type": "error",
     "traceback": [
      "\u001b[1;31mFailed to start the Kernel. \n",
      "\u001b[1;31mUnable to start Kernel 'Python 3.12.0' due to a timeout waiting for the ports to get used. \n",
      "\u001b[1;31mView Jupyter <a href='command:jupyter.viewOutput'>log</a> for further details."
     ]
    }
   ],
   "source": [
    "categorized_sales.head()"
   ]
  },
  {
   "cell_type": "code",
   "execution_count": 101,
   "metadata": {},
   "outputs": [],
   "source": [
    "bussiness_sales = df.groupby('ANONYMIZED BUSINESS').agg({'QUANTITY':'sum','UNIT PRICE':'sum'})"
   ]
  },
  {
   "cell_type": "code",
   "execution_count": 1,
   "metadata": {},
   "outputs": [
    {
     "ename": "NameError",
     "evalue": "name 'bussiness_sales' is not defined",
     "output_type": "error",
     "traceback": [
      "\u001b[1;31m---------------------------------------------------------------------------\u001b[0m",
      "\u001b[1;31mNameError\u001b[0m                                 Traceback (most recent call last)",
      "Cell \u001b[1;32mIn[1], line 1\u001b[0m\n\u001b[1;32m----> 1\u001b[0m \u001b[43mbussiness_sales\u001b[49m\u001b[38;5;241m.\u001b[39mhead()\n",
      "\u001b[1;31mNameError\u001b[0m: name 'bussiness_sales' is not defined"
     ]
    }
   ],
   "source": [
    "bussiness_sales.head()"
   ]
  },
  {
   "cell_type": "code",
   "execution_count": 102,
   "metadata": {},
   "outputs": [
    {
     "ename": "",
     "evalue": "",
     "output_type": "error",
     "traceback": [
      "\u001b[1;31mFailed to start the Kernel. \n",
      "\u001b[1;31mUnable to start Kernel 'Python 3.12.0' due to a timeout waiting for the ports to get used. \n",
      "\u001b[1;31mView Jupyter <a href='command:jupyter.viewOutput'>log</a> for further details."
     ]
    }
   ],
   "source": [
    "df['UNIT PRICE'] = df['UNIT PRICE'].str.replace(',','').astype(float)"
   ]
  },
  {
   "cell_type": "code",
   "execution_count": null,
   "metadata": {},
   "outputs": [],
   "source": []
  },
  {
   "cell_type": "code",
   "execution_count": 105,
   "metadata": {},
   "outputs": [],
   "source": [
    "import numpy as new_duplicates_count"
   ]
  },
  {
   "cell_type": "code",
   "execution_count": 106,
   "metadata": {},
   "outputs": [
    {
     "name": "stdout",
     "output_type": "stream",
     "text": [
      "Requirement already satisfied: matplotlib in c:\\users\\masudi\\appdata\\local\\programs\\python\\python312\\lib\\site-packages (3.10.0)\n",
      "Requirement already satisfied: contourpy>=1.0.1 in c:\\users\\masudi\\appdata\\local\\programs\\python\\python312\\lib\\site-packages (from matplotlib) (1.3.1)\n",
      "Requirement already satisfied: cycler>=0.10 in c:\\users\\masudi\\appdata\\local\\programs\\python\\python312\\lib\\site-packages (from matplotlib) (0.12.1)\n",
      "Requirement already satisfied: fonttools>=4.22.0 in c:\\users\\masudi\\appdata\\local\\programs\\python\\python312\\lib\\site-packages (from matplotlib) (4.55.3)\n",
      "Requirement already satisfied: kiwisolver>=1.3.1 in c:\\users\\masudi\\appdata\\local\\programs\\python\\python312\\lib\\site-packages (from matplotlib) (1.4.8)\n",
      "Requirement already satisfied: numpy>=1.23 in c:\\users\\masudi\\appdata\\local\\programs\\python\\python312\\lib\\site-packages (from matplotlib) (2.2.1)\n",
      "Requirement already satisfied: packaging>=20.0 in c:\\users\\masudi\\appdata\\roaming\\python\\python312\\site-packages (from matplotlib) (24.2)\n",
      "Requirement already satisfied: pillow>=8 in c:\\users\\masudi\\appdata\\local\\programs\\python\\python312\\lib\\site-packages (from matplotlib) (11.1.0)\n",
      "Requirement already satisfied: pyparsing>=2.3.1 in c:\\users\\masudi\\appdata\\local\\programs\\python\\python312\\lib\\site-packages (from matplotlib) (3.2.1)\n",
      "Requirement already satisfied: python-dateutil>=2.7 in c:\\users\\masudi\\appdata\\roaming\\python\\python312\\site-packages (from matplotlib) (2.9.0.post0)\n",
      "Requirement already satisfied: six>=1.5 in c:\\users\\masudi\\appdata\\roaming\\python\\python312\\site-packages (from python-dateutil>=2.7->matplotlib) (1.17.0)\n",
      "Note: you may need to restart the kernel to use updated packages.\n"
     ]
    },
    {
     "name": "stderr",
     "output_type": "stream",
     "text": [
      "\n",
      "[notice] A new release of pip is available: 23.2.1 -> 24.3.1\n",
      "[notice] To update, run: python.exe -m pip install --upgrade pip\n"
     ]
    }
   ],
   "source": [
    "pip install matplotlib"
   ]
  },
  {
   "cell_type": "code",
   "execution_count": 107,
   "metadata": {},
   "outputs": [],
   "source": [
    "import matplotlib.pyplot as plt"
   ]
  },
  {
   "cell_type": "code",
   "execution_count": 108,
   "metadata": {},
   "outputs": [
    {
     "name": "stdout",
     "output_type": "stream",
     "text": [
      "Requirement already satisfied: seaborn in c:\\users\\masudi\\appdata\\local\\programs\\python\\python312\\lib\\site-packages (0.13.2)\n",
      "Requirement already satisfied: numpy!=1.24.0,>=1.20 in c:\\users\\masudi\\appdata\\local\\programs\\python\\python312\\lib\\site-packages (from seaborn) (2.2.1)\n",
      "Requirement already satisfied: pandas>=1.2 in c:\\users\\masudi\\appdata\\local\\programs\\python\\python312\\lib\\site-packages (from seaborn) (2.2.3)\n",
      "Requirement already satisfied: matplotlib!=3.6.1,>=3.4 in c:\\users\\masudi\\appdata\\local\\programs\\python\\python312\\lib\\site-packages (from seaborn) (3.10.0)\n",
      "Requirement already satisfied: contourpy>=1.0.1 in c:\\users\\masudi\\appdata\\local\\programs\\python\\python312\\lib\\site-packages (from matplotlib!=3.6.1,>=3.4->seaborn) (1.3.1)\n",
      "Requirement already satisfied: cycler>=0.10 in c:\\users\\masudi\\appdata\\local\\programs\\python\\python312\\lib\\site-packages (from matplotlib!=3.6.1,>=3.4->seaborn) (0.12.1)\n",
      "Requirement already satisfied: fonttools>=4.22.0 in c:\\users\\masudi\\appdata\\local\\programs\\python\\python312\\lib\\site-packages (from matplotlib!=3.6.1,>=3.4->seaborn) (4.55.3)\n",
      "Requirement already satisfied: kiwisolver>=1.3.1 in c:\\users\\masudi\\appdata\\local\\programs\\python\\python312\\lib\\site-packages (from matplotlib!=3.6.1,>=3.4->seaborn) (1.4.8)\n",
      "Requirement already satisfied: packaging>=20.0 in c:\\users\\masudi\\appdata\\roaming\\python\\python312\\site-packages (from matplotlib!=3.6.1,>=3.4->seaborn) (24.2)\n",
      "Requirement already satisfied: pillow>=8 in c:\\users\\masudi\\appdata\\local\\programs\\python\\python312\\lib\\site-packages (from matplotlib!=3.6.1,>=3.4->seaborn) (11.1.0)\n",
      "Requirement already satisfied: pyparsing>=2.3.1 in c:\\users\\masudi\\appdata\\local\\programs\\python\\python312\\lib\\site-packages (from matplotlib!=3.6.1,>=3.4->seaborn) (3.2.1)\n",
      "Requirement already satisfied: python-dateutil>=2.7 in c:\\users\\masudi\\appdata\\roaming\\python\\python312\\site-packages (from matplotlib!=3.6.1,>=3.4->seaborn) (2.9.0.post0)\n",
      "Requirement already satisfied: pytz>=2020.1 in c:\\users\\masudi\\appdata\\local\\programs\\python\\python312\\lib\\site-packages (from pandas>=1.2->seaborn) (2024.2)\n",
      "Requirement already satisfied: tzdata>=2022.7 in c:\\users\\masudi\\appdata\\local\\programs\\python\\python312\\lib\\site-packages (from pandas>=1.2->seaborn) (2024.2)\n",
      "Requirement already satisfied: six>=1.5 in c:\\users\\masudi\\appdata\\roaming\\python\\python312\\site-packages (from python-dateutil>=2.7->matplotlib!=3.6.1,>=3.4->seaborn) (1.17.0)\n",
      "Note: you may need to restart the kernel to use updated packages.\n"
     ]
    },
    {
     "name": "stderr",
     "output_type": "stream",
     "text": [
      "\n",
      "[notice] A new release of pip is available: 23.2.1 -> 24.3.1\n",
      "[notice] To update, run: python.exe -m pip install --upgrade pip\n"
     ]
    }
   ],
   "source": [
    "pip install seaborn"
   ]
  },
  {
   "cell_type": "code",
   "execution_count": 110,
   "metadata": {},
   "outputs": [],
   "source": [
    "import seaborn as sns"
   ]
  },
  {
   "cell_type": "code",
   "execution_count": 111,
   "metadata": {},
   "outputs": [
    {
     "name": "stderr",
     "output_type": "stream",
     "text": [
      "C:\\Users\\Masudi\\AppData\\Local\\Temp\\ipykernel_2920\\2859042554.py:2: FutureWarning: \n",
      "\n",
      "Passing `palette` without assigning `hue` is deprecated and will be removed in v0.14.0. Assign the `x` variable to `hue` and set `legend=False` for the same effect.\n",
      "\n",
      "  sns.barplot(data=categorized_sales, x='ANONYMIZED CATEGORY', y='QUANTITY', palette='viridis')\n"
     ]
    },
    {
     "data": {
      "image/png": "[encoded data removed]",
      "text/plain": [
       "<Figure size 1200x600 with 1 Axes>"
      ]
     },
     "metadata": {},
     "output_type": "display_data"
    }
   ],
   "source": [
    "plt.figure(figsize=(12, 6))\n",
    "sns.barplot(data=categorized_sales, x='ANONYMIZED CATEGORY', y='QUANTITY', palette='viridis')\n",
    "plt.title('Total Quantity by Category', fontsize=16)\n",
    "plt.xlabel('Category', fontsize=14)\n",
    "plt.ylabel('Quantity', fontsize=14)\n",
    "plt.xticks(rotation=45)\n",
    "plt.tight_layout()\n",
    "plt.show()"
   ]
  },
  {
   "cell_type": "code",
   "execution_count": null,
   "metadata": {},
   "outputs": [
    {
     "name": "stderr",
     "output_type": "stream",
     "text": [
      "C:\\Users\\Masudi\\AppData\\Local\\Temp\\ipykernel_2920\\1093782817.py:2: FutureWarning: \n",
      "\n",
      "Passing `palette` without assigning `hue` is deprecated and will be removed in v0.14.0. Assign the `x` variable to `hue` and set `legend=False` for the same effect.\n",
      "\n",
      "  sns.barplot(data=categorized_sales, x='ANONYMIZED CATEGORY', y='UNIT PRICE', palette='muted')\n",
      "C:\\Users\\Masudi\\AppData\\Local\\Temp\\ipykernel_2920\\1093782817.py:7: UserWarning: Tight layout not applied. The left and right margins cannot be made large enough to accommodate all Axes decorations.\n",
      "  plt.tight_layout()\n"
     ]
    }
   ],
   "source": [
    "plt.figure(figsize=(12, 6))\n",
    "sns.barplot(data=categorized_sales, x='ANONYMIZED CATEGORY', y='UNIT PRICE', palette='muted')\n",
    "plt.title('Total Value by Category', fontsize=16)\n",
    "plt.xlabel('Category', fontsize=14)\n",
    "plt.ylabel('UNIT PRICE', fontsize=14)\n",
    "plt.xticks(rotation=45)\n",
    "plt.tight_layout()\n",
    "plt.show()"
   ]
  },
  {
   "cell_type": "code",
   "execution_count": null,
   "metadata": {},
   "outputs": [
    {
     "name": "stderr",
     "output_type": "stream",
     "text": [
      "C:\\Users\\Masudi\\AppData\\Local\\Temp\\ipykernel_2920\\2240262531.py:3: FutureWarning: \n",
      "\n",
      "Passing `palette` without assigning `hue` is deprecated and will be removed in v0.14.0. Assign the `x` variable to `hue` and set `legend=False` for the same effect.\n",
      "\n",
      "  sns.barplot(data=top_business_quantity, x='ANONYMIZED BUSINESS', y='QUANTITY', palette='coolwarm')\n"
     ]
    },
    {
     "data": {
      "image/png": "[encoded data removed]",
      "text/plain": [
       "<Figure size 1200x600 with 1 Axes>"
      ]
     },
     "metadata": {},
     "output_type": "display_data"
    }
   ],
   "source": [
    "top_business_quantity = bussiness_sales.nlargest(10, 'QUANTITY')\n",
    "plt.figure(figsize=(12, 6))\n",
    "sns.barplot(data=top_business_quantity, x='ANONYMIZED BUSINESS', y='QUANTITY', palette='coolwarm')\n",
    "plt.title('Top 10 Businesses by Quantity', fontsize=16)\n",
    "plt.xlabel('Business', fontsize=14)\n",
    "plt.ylabel('Quantity', fontsize=14)\n",
    "plt.xticks(rotation=45)\n",
    "plt.tight_layout()\n",
    "plt.show()"
   ]
  },
  {
   "cell_type": "code",
   "execution_count": null,
   "metadata": {},
   "outputs": [
    {
     "name": "stderr",
     "output_type": "stream",
     "text": [
      "C:\\Users\\Masudi\\AppData\\Local\\Temp\\ipykernel_2920\\1876773582.py:3: FutureWarning: \n",
      "\n",
      "Passing `palette` without assigning `hue` is deprecated and will be removed in v0.14.0. Assign the `x` variable to `hue` and set `legend=False` for the same effect.\n",
      "\n",
      "  sns.barplot(data=top_business_value, x='ANONYMIZED BUSINESS', y='UNIT PRICE', palette='coolwarm')\n"
     ]
    },
    {
     "data": {
      "image/png": "[encoded data removed]",
      "text/plain": [
       "<Figure size 1200x600 with 1 Axes>"
      ]
     },
     "metadata": {},
     "output_type": "display_data"
    }
   ],
   "source": [
    "top_business_value = bussiness_sales.nlargest(10, 'UNIT PRICE')\n",
    "plt.figure(figsize=(12, 6))\n",
    "sns.barplot(data=top_business_value, x='ANONYMIZED BUSINESS', y='UNIT PRICE', palette='coolwarm')\n",
    "plt.title('Top 10 Businesses by Value', fontsize=16)\n",
    "plt.xlabel('Business', fontsize=14)\n",
    "plt.ylabel('UNIT PRICE', fontsize=14)\n",
    "plt.xticks(rotation=45)\n",
    "plt.tight_layout()\n",
    "plt.show()"
   ]
  },
  {
   "cell_type": "code",
   "execution_count": 68,
   "metadata": {},
   "outputs": [
    {
     "data": {
      "text/html": [
       "<div>\n",
       "<style scoped>\n",
       "    .dataframe tbody tr th:only-of-type {\n",
       "        vertical-align: middle;\n",
       "    }\n",
       "\n",
       "    .dataframe tbody tr th {\n",
       "        vertical-align: top;\n",
       "    }\n",
       "\n",
       "    .dataframe thead th {\n",
       "        text-align: right;\n",
       "    }\n",
       "</style>\n",
       "<table border=\"1\" class=\"dataframe\">\n",
       "  <thead>\n",
       "    <tr style=\"text-align: right;\">\n",
       "      <th></th>\n",
       "      <th>DATE</th>\n",
       "      <th>ANONYMIZED CATEGORY</th>\n",
       "      <th>ANONYMIZED PRODUCT</th>\n",
       "      <th>ANONYMIZED BUSINESS</th>\n",
       "      <th>ANONYMIZED LOCATION</th>\n",
       "      <th>QUANTITY</th>\n",
       "      <th>UNIT PRICE</th>\n",
       "    </tr>\n",
       "  </thead>\n",
       "  <tbody>\n",
       "    <tr>\n",
       "      <th>0</th>\n",
       "      <td>August 18, 2024, 9:32 PM</td>\n",
       "      <td>Category-106</td>\n",
       "      <td>Product-21f4</td>\n",
       "      <td>Business-de42</td>\n",
       "      <td>Location-1ba8</td>\n",
       "      <td>1</td>\n",
       "      <td>850</td>\n",
       "    </tr>\n",
       "    <tr>\n",
       "      <th>1</th>\n",
       "      <td>August 18, 2024, 9:32 PM</td>\n",
       "      <td>Category-120</td>\n",
       "      <td>Product-4156</td>\n",
       "      <td>Business-de42</td>\n",
       "      <td>Location-1ba8</td>\n",
       "      <td>2</td>\n",
       "      <td>1,910</td>\n",
       "    </tr>\n",
       "    <tr>\n",
       "      <th>2</th>\n",
       "      <td>August 18, 2024, 9:32 PM</td>\n",
       "      <td>Category-121</td>\n",
       "      <td>Product-49bd</td>\n",
       "      <td>Business-de42</td>\n",
       "      <td>Location-1ba8</td>\n",
       "      <td>1</td>\n",
       "      <td>3,670</td>\n",
       "    </tr>\n",
       "    <tr>\n",
       "      <th>3</th>\n",
       "      <td>August 18, 2024, 9:32 PM</td>\n",
       "      <td>Category-76</td>\n",
       "      <td>Product-61dd</td>\n",
       "      <td>Business-de42</td>\n",
       "      <td>Location-1ba8</td>\n",
       "      <td>1</td>\n",
       "      <td>2,605</td>\n",
       "    </tr>\n",
       "    <tr>\n",
       "      <th>4</th>\n",
       "      <td>August 18, 2024, 9:32 PM</td>\n",
       "      <td>Category-119</td>\n",
       "      <td>Product-66e0</td>\n",
       "      <td>Business-de42</td>\n",
       "      <td>Location-1ba8</td>\n",
       "      <td>5</td>\n",
       "      <td>1,480</td>\n",
       "    </tr>\n",
       "    <tr>\n",
       "      <th>...</th>\n",
       "      <td>...</td>\n",
       "      <td>...</td>\n",
       "      <td>...</td>\n",
       "      <td>...</td>\n",
       "      <td>...</td>\n",
       "      <td>...</td>\n",
       "      <td>...</td>\n",
       "    </tr>\n",
       "    <tr>\n",
       "      <th>333398</th>\n",
       "      <td>November 13, 2024, 1:59 PM</td>\n",
       "      <td>Category-121</td>\n",
       "      <td>Product-898d</td>\n",
       "      <td>Business-0e99</td>\n",
       "      <td>Location-689f</td>\n",
       "      <td>5</td>\n",
       "      <td>1,360</td>\n",
       "    </tr>\n",
       "    <tr>\n",
       "      <th>333401</th>\n",
       "      <td>August 20, 2024, 8:24 PM</td>\n",
       "      <td>Category-106</td>\n",
       "      <td>Product-21f4</td>\n",
       "      <td>Business-72bc</td>\n",
       "      <td>Location-689f</td>\n",
       "      <td>1</td>\n",
       "      <td>850</td>\n",
       "    </tr>\n",
       "    <tr>\n",
       "      <th>333402</th>\n",
       "      <td>August 20, 2024, 8:24 PM</td>\n",
       "      <td>Category-76</td>\n",
       "      <td>Product-6e9c</td>\n",
       "      <td>Business-72bc</td>\n",
       "      <td>Location-689f</td>\n",
       "      <td>1</td>\n",
       "      <td>2,575</td>\n",
       "    </tr>\n",
       "    <tr>\n",
       "      <th>333403</th>\n",
       "      <td>October 10, 2024, 6:19 PM</td>\n",
       "      <td>Category-91</td>\n",
       "      <td>Product-523e</td>\n",
       "      <td>Business-2693</td>\n",
       "      <td>Location-b27b</td>\n",
       "      <td>1</td>\n",
       "      <td>1,520</td>\n",
       "    </tr>\n",
       "    <tr>\n",
       "      <th>333404</th>\n",
       "      <td>October 10, 2024, 6:19 PM</td>\n",
       "      <td>Category-75</td>\n",
       "      <td>Product-b31e</td>\n",
       "      <td>Business-2693</td>\n",
       "      <td>Location-b27b</td>\n",
       "      <td>1</td>\n",
       "      <td>4,420</td>\n",
       "    </tr>\n",
       "  </tbody>\n",
       "</table>\n",
       "<p>329881 rows × 7 columns</p>\n",
       "</div>"
      ],
      "text/plain": [
       "                              DATE ANONYMIZED CATEGORY ANONYMIZED PRODUCT  \\\n",
       "0         August 18, 2024, 9:32 PM        Category-106       Product-21f4   \n",
       "1         August 18, 2024, 9:32 PM        Category-120       Product-4156   \n",
       "2         August 18, 2024, 9:32 PM        Category-121       Product-49bd   \n",
       "3         August 18, 2024, 9:32 PM         Category-76       Product-61dd   \n",
       "4         August 18, 2024, 9:32 PM        Category-119       Product-66e0   \n",
       "...                            ...                 ...                ...   \n",
       "333398  November 13, 2024, 1:59 PM        Category-121       Product-898d   \n",
       "333401    August 20, 2024, 8:24 PM        Category-106       Product-21f4   \n",
       "333402    August 20, 2024, 8:24 PM         Category-76       Product-6e9c   \n",
       "333403   October 10, 2024, 6:19 PM         Category-91       Product-523e   \n",
       "333404   October 10, 2024, 6:19 PM         Category-75       Product-b31e   \n",
       "\n",
       "       ANONYMIZED BUSINESS ANONYMIZED LOCATION  QUANTITY UNIT PRICE  \n",
       "0            Business-de42       Location-1ba8         1        850  \n",
       "1            Business-de42       Location-1ba8         2      1,910  \n",
       "2            Business-de42       Location-1ba8         1      3,670  \n",
       "3            Business-de42       Location-1ba8         1      2,605  \n",
       "4            Business-de42       Location-1ba8         5      1,480  \n",
       "...                    ...                 ...       ...        ...  \n",
       "333398       Business-0e99       Location-689f         5      1,360  \n",
       "333401       Business-72bc       Location-689f         1        850  \n",
       "333402       Business-72bc       Location-689f         1      2,575  \n",
       "333403       Business-2693       Location-b27b         1      1,520  \n",
       "333404       Business-2693       Location-b27b         1      4,420  \n",
       "\n",
       "[329881 rows x 7 columns]"
      ]
     },
     "execution_count": 68,
     "metadata": {},
     "output_type": "execute_result"
    }
   ],
   "source": [
    "df_cleaned"
   ]
  },
  {
   "cell_type": "code",
   "execution_count": 70,
   "metadata": {},
   "outputs": [],
   "source": [
    "sales_trends = df_cleaned.groupby('DATE').agg({'QUANTITY': 'sum', 'UNIT PRICE': 'sum'})"
   ]
  },
  {
   "cell_type": "code",
   "execution_count": 71,
   "metadata": {},
   "outputs": [
    {
     "data": {
      "text/html": [
       "<div>\n",
       "<style scoped>\n",
       "    .dataframe tbody tr th:only-of-type {\n",
       "        vertical-align: middle;\n",
       "    }\n",
       "\n",
       "    .dataframe tbody tr th {\n",
       "        vertical-align: top;\n",
       "    }\n",
       "\n",
       "    .dataframe thead th {\n",
       "        text-align: right;\n",
       "    }\n",
       "</style>\n",
       "<table border=\"1\" class=\"dataframe\">\n",
       "  <thead>\n",
       "    <tr style=\"text-align: right;\">\n",
       "      <th></th>\n",
       "      <th>QUANTITY</th>\n",
       "      <th>UNIT PRICE</th>\n",
       "    </tr>\n",
       "    <tr>\n",
       "      <th>DATE</th>\n",
       "      <th></th>\n",
       "      <th></th>\n",
       "    </tr>\n",
       "  </thead>\n",
       "  <tbody>\n",
       "    <tr>\n",
       "      <th>April 1, 2024, 10:07 PM</th>\n",
       "      <td>5</td>\n",
       "      <td>4,0001,345</td>\n",
       "    </tr>\n",
       "    <tr>\n",
       "      <th>April 1, 2024, 10:23 PM</th>\n",
       "      <td>5</td>\n",
       "      <td>5605602,4901,445</td>\n",
       "    </tr>\n",
       "    <tr>\n",
       "      <th>April 1, 2024, 10:27 PM</th>\n",
       "      <td>40</td>\n",
       "      <td>1,870</td>\n",
       "    </tr>\n",
       "    <tr>\n",
       "      <th>April 1, 2024, 10:28 PM</th>\n",
       "      <td>5</td>\n",
       "      <td>4,000</td>\n",
       "    </tr>\n",
       "    <tr>\n",
       "      <th>April 1, 2024, 10:35 PM</th>\n",
       "      <td>65</td>\n",
       "      <td>2,0104,0001,9801,4801,510</td>\n",
       "    </tr>\n",
       "    <tr>\n",
       "      <th>...</th>\n",
       "      <td>...</td>\n",
       "      <td>...</td>\n",
       "    </tr>\n",
       "    <tr>\n",
       "      <th>September 9, 2024, 9:51 PM</th>\n",
       "      <td>22</td>\n",
       "      <td>3,9501,2651,7751,7501,1602,4902,5401,945685700...</td>\n",
       "    </tr>\n",
       "    <tr>\n",
       "      <th>September 9, 2024, 9:52 PM</th>\n",
       "      <td>37</td>\n",
       "      <td>2,5507101,825</td>\n",
       "    </tr>\n",
       "    <tr>\n",
       "      <th>September 9, 2024, 9:54 PM</th>\n",
       "      <td>5</td>\n",
       "      <td>2,5402,5401,160</td>\n",
       "    </tr>\n",
       "    <tr>\n",
       "      <th>September 9, 2024, 9:56 PM</th>\n",
       "      <td>2</td>\n",
       "      <td>1,755</td>\n",
       "    </tr>\n",
       "    <tr>\n",
       "      <th>September 9, 2024, 9:59 PM</th>\n",
       "      <td>4</td>\n",
       "      <td>1,7501,5501,445</td>\n",
       "    </tr>\n",
       "  </tbody>\n",
       "</table>\n",
       "<p>96703 rows × 2 columns</p>\n",
       "</div>"
      ],
      "text/plain": [
       "                            QUANTITY  \\\n",
       "DATE                                   \n",
       "April 1, 2024, 10:07 PM            5   \n",
       "April 1, 2024, 10:23 PM            5   \n",
       "April 1, 2024, 10:27 PM           40   \n",
       "April 1, 2024, 10:28 PM            5   \n",
       "April 1, 2024, 10:35 PM           65   \n",
       "...                              ...   \n",
       "September 9, 2024, 9:51 PM        22   \n",
       "September 9, 2024, 9:52 PM        37   \n",
       "September 9, 2024, 9:54 PM         5   \n",
       "September 9, 2024, 9:56 PM         2   \n",
       "September 9, 2024, 9:59 PM         4   \n",
       "\n",
       "                                                                   UNIT PRICE  \n",
       "DATE                                                                           \n",
       "April 1, 2024, 10:07 PM                                            4,0001,345  \n",
       "April 1, 2024, 10:23 PM                                      5605602,4901,445  \n",
       "April 1, 2024, 10:27 PM                                                 1,870  \n",
       "April 1, 2024, 10:28 PM                                                 4,000  \n",
       "April 1, 2024, 10:35 PM                             2,0104,0001,9801,4801,510  \n",
       "...                                                                       ...  \n",
       "September 9, 2024, 9:51 PM  3,9501,2651,7751,7501,1602,4902,5401,945685700...  \n",
       "September 9, 2024, 9:52 PM                                      2,5507101,825  \n",
       "September 9, 2024, 9:54 PM                                    2,5402,5401,160  \n",
       "September 9, 2024, 9:56 PM                                              1,755  \n",
       "September 9, 2024, 9:59 PM                                    1,7501,5501,445  \n",
       "\n",
       "[96703 rows x 2 columns]"
      ]
     },
     "execution_count": 71,
     "metadata": {},
     "output_type": "execute_result"
    }
   ],
   "source": [
    "sales_trends"
   ]
  },
  {
   "cell_type": "code",
   "execution_count": null,
   "metadata": {},
   "outputs": [],
   "source": [
    "# Group data by 'Month-Year' for sales trends\n",
    "sales_trends = df_cleaned.groupby('Month-Year').agg({'QUANTITY': 'sum', 'Value': 'sum'})\n",
    "\n",
    "# Sort the 'Month-Year' column to ensure chronological order\n",
    "sales_trends['Month-Year'] = pd.to_datetime(sales_trends['Month-Year'], format='%B %Y')\n",
    "sales_trends = sales_trends.sort_values(by='Month-Year')\n",
    "\n",
    "# Plotting the sales trends (Quantity and Value) over time\n",
    "plt.figure(figsize=(14, 7))\n",
    "sns.lineplot(data=sales_trends, x='Month-Year', y='QUANTITY', marker='o', label='Quantity', color='blue')\n",
    "sns.lineplot(data=sales_trends, x='Month-Year', y='Value', marker='o', label='Value', color='green')\n",
    "plt.title('Sales Trends Over Time', fontsize=16)\n",
    "plt.xlabel('Month-Year', fontsize=14)\n",
    "plt.ylabel('Sales (Quantity & Value)', fontsize=14)\n",
    "plt.xticks(rotation=45)\n",
    "plt.legend(title=\"Metrics\")\n",
    "plt.tight_layout()\n",
    "plt.show()\n"
   ]
  },
  {
   "cell_type": "code",
   "execution_count": null,
   "metadata": {},
   "outputs": [],
   "source": [
    "   "
   ]
  }
 ],
 "metadata": {
  "kernelspec": {
   "display_name": "Python 3",
   "language": "python",
   "name": "python3"
  },
  "language_info": {
   "codemirror_mode": {
    "name": "ipython",
    "version": 3
   },
   "file_extension": ".py",
   "mimetype": "text/x-python",
   "name": "python",
   "nbconvert_exporter": "python",
   "pygments_lexer": "ipython3",
   "version": "3.12.0"
  }
 },
 "nbformat": 4,
 "nbformat_minor": 2
}
